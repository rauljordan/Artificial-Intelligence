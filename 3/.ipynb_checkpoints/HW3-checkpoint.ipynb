{
 "cells": [
  {
   "cell_type": "markdown",
   "metadata": {},
   "source": [
    "# CS 182: Artificial Intelligence\n",
    "# Assignment 3: Constraint Satisfaction and Local Search\n",
    "* Fall 2015\n",
    "* Due: Oct 16, 5pm\n"
   ]
  },
  {
   "cell_type": "markdown",
   "metadata": {},
   "source": [
    "## Solving Sudoku as a Constraint Satisfaction Problem (CSP)\n",
    "\n",
    "In a traditional search problem (as in HW1), we treat each state of a problem abstractly. A state has a goal test and a transition model, but we never look inside the representation of a state. In a constraint satisfaction problem (CSP), a state is no longer opaque, we can peek in to check if we are on the right track. \n",
    "\n",
    "In this problem set, you will implement a very common CSP, Sudoku! Sudoku solvers leverage a few essential techniques for solving CSPs. The code for this project is in `sudoku.py` which you can get by running:"
   ]
  },
  {
   "cell_type": "markdown",
   "metadata": {},
   "source": [
    "> git clone https://github.com/CS182/HW3.git"
   ]
  },
  {
   "cell_type": "markdown",
   "metadata": {},
   "source": [
    "This runnable IPython notebook walks you through the elements of Sudoku you will need to implement for this assignment."
   ]
  },
  {
   "cell_type": "code",
   "execution_count": 1,
   "metadata": {
    "collapsed": false
   },
   "outputs": [],
   "source": [
    "from sudoku import *\n",
    "import IPython.display\n",
    "sudoku = Sudoku(boardHard)"
   ]
  },
  {
   "cell_type": "markdown",
   "metadata": {},
   "source": [
    "(If you want to run the assignment in IPython notebook, you should call `set_args([])` to set global  `set_args([\"-forward\", \"1\"])`)"
   ]
  },
  {
   "cell_type": "markdown",
   "metadata": {},
   "source": [
    "## Modeling"
   ]
  },
  {
   "cell_type": "markdown",
   "metadata": {},
   "source": [
    "### Problem 0: Introduction to Sudoku\n",
    "If you are not familiar with Sudoku puzzles, read the Wikipedia page on Sudoku to familiarize yourself with the basic rules.\n",
    "\n",
    "https://en.wikipedia.org/wiki/Sudoku\n",
    "\n",
    "Here is an example of a Sudoku grid:"
   ]
  },
  {
   "cell_type": "code",
   "execution_count": 2,
   "metadata": {
    "collapsed": false
   },
   "outputs": [
    {
     "data": {
      "text/html": [
       "<style>\n",
       "         .sudoku td {\n",
       "            width: 20pt;\n",
       "            text-align: center;\n",
       "            border-color: #AAAAAA;\n",
       "         }\n",
       "\n",
       "        </style><center><table class='sudoku' style='border:none; border-collapse:collapse; background-color:#FFFFFF; border: #666699 solid 2px;'><tr style='border: #AAAAAA 1px'><td style=''> </td><td style=''> </td><td style=''> </td><td style='border-left: #666699 solid 2px;'> </td><td style=''> </td><td style=''>8</td><td style='border-left: #666699 solid 2px;'>9</td><td style=''> </td><td style=''>2</td></tr><tr style='border: #AAAAAA 1px'><td style=''>6</td><td style=''> </td><td style=''>4</td><td style='border-left: #666699 solid 2px;'>3</td><td style=''> </td><td style=''> </td><td style='border-left: #666699 solid 2px;'> </td><td style=''> </td><td style=''> </td></tr><tr style='border: #AAAAAA 1px'><td style=''> </td><td style=''> </td><td style=''> </td><td style='border-left: #666699 solid 2px;'>5</td><td style=''>9</td><td style=''> </td><td style='border-left: #666699 solid 2px;'> </td><td style=''> </td><td style=''> </td></tr><tr style='border:none; border-collapse:collapse; background-color:#AAAAAA 1px; border-top: #666699 solid 2px'><td style=''> </td><td style=''> </td><td style=''>5</td><td style='border-left: #666699 solid 2px;'>7</td><td style=''> </td><td style=''>3</td><td style='border-left: #666699 solid 2px;'> </td><td style=''> </td><td style=''>9</td></tr><tr style='border: #AAAAAA 1px'><td style=''>7</td><td style=''> </td><td style=''> </td><td style='border-left: #666699 solid 2px;'> </td><td style=''>4</td><td style=''> </td><td style='border-left: #666699 solid 2px;'> </td><td style=''> </td><td style=''> </td></tr><tr style='border: #AAAAAA 1px'><td style=''> </td><td style=''> </td><td style=''>9</td><td style='border-left: #666699 solid 2px;'> </td><td style=''> </td><td style=''> </td><td style='border-left: #666699 solid 2px;'>3</td><td style=''> </td><td style=''>5</td></tr><tr style='border:none; border-collapse:collapse; background-color:#AAAAAA 1px; border-top: #666699 solid 2px'><td style=''> </td><td style=''>8</td><td style=''> </td><td style='border-left: #666699 solid 2px;'> </td><td style=''> </td><td style=''>4</td><td style='border-left: #666699 solid 2px;'> </td><td style=''> </td><td style=''> </td></tr><tr style='border: #AAAAAA 1px'><td style=''> </td><td style=''>4</td><td style=''>1</td><td style='border-left: #666699 solid 2px;'> </td><td style=''> </td><td style=''> </td><td style='border-left: #666699 solid 2px;'> </td><td style=''>3</td><td style=''> </td></tr><tr style='border: #AAAAAA 1px'><td style=''>2</td><td style=''> </td><td style=''> </td><td style='border-left: #666699 solid 2px;'>1</td><td style=''>5</td><td style=''> </td><td style='border-left: #666699 solid 2px;'> </td><td style=''> </td><td style=''> </td></tr></table></center>"
      ],
      "text/plain": [
       "<IPython.core.display.HTML object>"
      ]
     },
     "execution_count": 2,
     "metadata": {},
     "output_type": "execute_result"
    }
   ],
   "source": [
    "IPython.display.HTML(sudoku.printhtml())"
   ]
  },
  {
   "cell_type": "markdown",
   "metadata": {},
   "source": [
    "We also implement a method `prettyprint` which will show the true state of the CSP. Each column shows the labels that still can be used in each column and row (note we do not show the remaining values in the boxes). You will first need to implement the factor updates below to get prettyprint to work.\n",
    "\n",
    "Note here we show the web version of this function `prettyprinthtml` (you can also use `print sudoku` from the command line.)"
   ]
  },
  {
   "cell_type": "code",
   "execution_count": 3,
   "metadata": {
    "collapsed": false
   },
   "outputs": [
    {
     "ename": "NotImplementedError",
     "evalue": "",
     "output_type": "error",
     "traceback": [
      "\u001b[0;31m---------------------------------------------------------------------------\u001b[0m",
      "\u001b[0;31mNotImplementedError\u001b[0m                       Traceback (most recent call last)",
      "\u001b[0;32m<ipython-input-3-aec7a7b2bd49>\u001b[0m in \u001b[0;36m<module>\u001b[0;34m()\u001b[0m\n\u001b[0;32m----> 1\u001b[0;31m \u001b[0mIPython\u001b[0m\u001b[0;34m.\u001b[0m\u001b[0mdisplay\u001b[0m\u001b[0;34m.\u001b[0m\u001b[0mHTML\u001b[0m\u001b[0;34m(\u001b[0m\u001b[0msudoku\u001b[0m\u001b[0;34m.\u001b[0m\u001b[0mprettyprinthtml\u001b[0m\u001b[0;34m(\u001b[0m\u001b[0;34m)\u001b[0m\u001b[0;34m)\u001b[0m\u001b[0;34m\u001b[0m\u001b[0m\n\u001b[0m",
      "\u001b[0;32m/Users/rauljordan/Desktop/Fall2015/CS182/HW/3/sudoku.py\u001b[0m in \u001b[0;36mprettyprinthtml\u001b[0;34m(self)\u001b[0m\n\u001b[1;32m    260\u001b[0m         \u001b[0mout\u001b[0m \u001b[0;34m=\u001b[0m \u001b[0;34m\"\\n\"\u001b[0m\u001b[0;34m\u001b[0m\u001b[0m\n\u001b[1;32m    261\u001b[0m         \u001b[0mcols\u001b[0m \u001b[0;34m=\u001b[0m \u001b[0;34m{\u001b[0m\u001b[0;34m}\u001b[0m\u001b[0;34m\u001b[0m\u001b[0m\n\u001b[0;32m--> 262\u001b[0;31m         \u001b[0mself\u001b[0m\u001b[0;34m.\u001b[0m\u001b[0mupdateAllFactors\u001b[0m\u001b[0;34m(\u001b[0m\u001b[0;34m)\u001b[0m\u001b[0;34m\u001b[0m\u001b[0m\n\u001b[0m\u001b[1;32m    263\u001b[0m \u001b[0;34m\u001b[0m\u001b[0m\n\u001b[1;32m    264\u001b[0m         out = \"\"\"<style>\n",
      "\u001b[0;32m/Users/rauljordan/Desktop/Fall2015/CS182/HW/3/sudoku.py\u001b[0m in \u001b[0;36mupdateAllFactors\u001b[0;34m(self)\u001b[0m\n\u001b[1;32m    135\u001b[0m         \u001b[0mThere\u001b[0m \u001b[0;32mis\u001b[0m \u001b[0mone\u001b[0m \u001b[0mfactor\u001b[0m \u001b[0;32mfor\u001b[0m \u001b[0meach\u001b[0m \u001b[0mrow\u001b[0m\u001b[0;34m,\u001b[0m \u001b[0mcolumn\u001b[0m\u001b[0;34m,\u001b[0m \u001b[0;32mand\u001b[0m \u001b[0mbox\u001b[0m\u001b[0;34m.\u001b[0m\u001b[0;34m\u001b[0m\u001b[0m\n\u001b[1;32m    136\u001b[0m         \"\"\"\n\u001b[0;32m--> 137\u001b[0;31m         \u001b[0;32mraise\u001b[0m \u001b[0mNotImplementedError\u001b[0m\u001b[0;34m(\u001b[0m\u001b[0;34m)\u001b[0m\u001b[0;34m\u001b[0m\u001b[0m\n\u001b[0m\u001b[1;32m    138\u001b[0m \u001b[0;34m\u001b[0m\u001b[0m\n\u001b[1;32m    139\u001b[0m     \u001b[0;32mdef\u001b[0m \u001b[0mupdateVariableFactors\u001b[0m\u001b[0;34m(\u001b[0m\u001b[0mself\u001b[0m\u001b[0;34m,\u001b[0m \u001b[0mvariable\u001b[0m\u001b[0;34m)\u001b[0m\u001b[0;34m:\u001b[0m\u001b[0;34m\u001b[0m\u001b[0m\n",
      "\u001b[0;31mNotImplementedError\u001b[0m: "
     ]
    }
   ],
   "source": [
    "IPython.display.HTML(sudoku.prettyprinthtml())"
   ]
  },
  {
   "cell_type": "markdown",
   "metadata": {},
   "source": [
    "To begin, you will want to be familar with the Sudoku board and interface for accessing rows, columns, and boxes. "
   ]
  },
  {
   "cell_type": "code",
   "execution_count": 4,
   "metadata": {
    "collapsed": false
   },
   "outputs": [
    {
     "data": {
      "text/plain": [
       "[[0, 0, 0, 0, 0, 8, 9, 0, 2],\n",
       " [6, 0, 4, 3, 0, 0, 0, 0, 0],\n",
       " [0, 0, 0, 5, 9, 0, 0, 0, 0],\n",
       " [0, 0, 5, 7, 0, 3, 0, 0, 9],\n",
       " [7, 0, 0, 0, 4, 0, 0, 0, 0],\n",
       " [0, 0, 9, 0, 0, 0, 3, 0, 5],\n",
       " [0, 8, 0, 0, 0, 4, 0, 0, 0],\n",
       " [0, 4, 1, 0, 0, 0, 0, 3, 0],\n",
       " [2, 0, 0, 1, 5, 0, 0, 0, 0]]"
      ]
     },
     "execution_count": 4,
     "metadata": {},
     "output_type": "execute_result"
    }
   ],
   "source": [
    "sudoku.board"
   ]
  },
  {
   "cell_type": "code",
   "execution_count": 3,
   "metadata": {
    "collapsed": false
   },
   "outputs": [
    {
     "name": "stdout",
     "output_type": "stream",
     "text": [
      "[0, 0, 0, 0, 0, 8, 9, 0, 2]\n",
      "[0, 6, 0, 0, 7, 0, 0, 0, 2]\n",
      "[0, 0, 0, 6, 0, 4, 0, 0, 0]\n"
     ]
    }
   ],
   "source": [
    "print sudoku.row(0)\n",
    "print sudoku.col(0)\n",
    "print sudoku.box(0)"
   ]
  },
  {
   "cell_type": "markdown",
   "metadata": {},
   "source": [
    "### Problem 1: CSP Variables"
   ]
  },
  {
   "cell_type": "markdown",
   "metadata": {},
   "source": [
    "For this assignment we will be modelling Sudoku as a CSP. Each box in the grid represents a variable based on `(row, col)`. The variable is either assigned a label ($1\\ldots 9$) or $\\epsilon$ (`0`) when it has not yet been assigned. Given the current assignment, the *domain* of each variable is also limited. When all the variables have been assigned the assignment is complete. For the first problem you should implement the following functions in the `Sudoku` class which model the variables of the Sudoku CSP. "
   ]
  },
  {
   "cell_type": "code",
   "execution_count": 5,
   "metadata": {
    "collapsed": false
   },
   "outputs": [
    {
     "data": {
      "text/plain": [
       "(0, 0)"
      ]
     },
     "execution_count": 5,
     "metadata": {},
     "output_type": "execute_result"
    }
   ],
   "source": [
    "sudoku.firstEpsilonVariable()"
   ]
  },
  {
   "cell_type": "code",
   "execution_count": 6,
   "metadata": {
    "collapsed": false
   },
   "outputs": [
    {
     "data": {
      "text/plain": [
       "False"
      ]
     },
     "execution_count": 6,
     "metadata": {},
     "output_type": "execute_result"
    }
   ],
   "source": [
    "sudoku.complete()"
   ]
  },
  {
   "cell_type": "code",
   "execution_count": 7,
   "metadata": {
    "collapsed": false
   },
   "outputs": [
    {
     "data": {
      "text/plain": [
       "[1, 3, 5]"
      ]
     },
     "execution_count": 7,
     "metadata": {},
     "output_type": "execute_result"
    }
   ],
   "source": [
    "sudoku.variableDomain(0,0)"
   ]
  },
  {
   "cell_type": "markdown",
   "metadata": {},
   "source": [
    "### Problem 2: CSP Factors"
   ]
  },
  {
   "cell_type": "markdown",
   "metadata": {},
   "source": [
    "Next we will implement the factors of the CSP. The rules of Sudoku say that there must be labels from 1-9 in each row, column, and box. Each of these will be represented by factors `(type, id)`, for instance `(ROW, 2)` is the factor corresponding to the third-row. \n",
    "\n",
    "_Note:_ These functions should update `self.factorRemaining` and `self.factorNumConflicts`. The datatype of `self.factorRemaining[type, id]` should always be a list of length 9. When a label is no longer available, instead of removing it, it should be replaced by `None`. For conflicts, you should count the number of times any label is used more than once. We provide the helper function `crossOff` to help with this book-keeping.\n",
    "\n",
    "For this problem, you should implement functions which keep track of the remaining labels available for a given factor as well as the number of violation of that factor in the case of inconsistent assignments. To do this, you should implement the following functions:"
   ]
  },
  {
   "cell_type": "code",
   "execution_count": null,
   "metadata": {
    "collapsed": false
   },
   "outputs": [],
   "source": [
    "doc(sudoku.updateFactor)"
   ]
  },
  {
   "cell_type": "code",
   "execution_count": null,
   "metadata": {
    "collapsed": false
   },
   "outputs": [],
   "source": [
    "doc(sudoku.updateAllFactors)"
   ]
  },
  {
   "cell_type": "code",
   "execution_count": null,
   "metadata": {
    "collapsed": false
   },
   "outputs": [],
   "source": [
    "doc(sudoku.updateVariableFactors)"
   ]
  },
  {
   "cell_type": "markdown",
   "metadata": {},
   "source": [
    "## Classical Search"
   ]
  },
  {
   "cell_type": "markdown",
   "metadata": {},
   "source": [
    "### Problem 3: Solving Sudoku with backtracking\n",
    "\n",
    "The `solveCSP` function will simply perform a depth first search on a tree of generic problem states. Running this function requires getting the next variable to search and all the possible labels that variable can take on. \n",
    "\n",
    "First you should implement the function `getSuccessors` which should return a list of Sudoku objects representing all possible successor assignments resulting from assigning a label to a variable. Note that for simplicity, unlike the pseudo-code in class we are not doing backtracking (undoing the assignments). This function will need to call `setVariable` which copies the state to produce new assignments."
   ]
  },
  {
   "cell_type": "code",
   "execution_count": null,
   "metadata": {
    "collapsed": false
   },
   "outputs": [],
   "source": [
    "doc(sudoku.getSuccessors)"
   ]
  },
  {
   "cell_type": "markdown",
   "metadata": {},
   "source": [
    "After you have implemented this method, run the program by running."
   ]
  },
  {
   "cell_type": "code",
   "execution_count": null,
   "metadata": {
    "collapsed": false
   },
   "outputs": [],
   "source": [
    "#!python sudoku.py \n",
    "# or to see each stage use\n",
    "#!python sudoku.py --debug=1"
   ]
  },
  {
   "cell_type": "markdown",
   "metadata": {},
   "source": [
    "Take note of how many states the CSP solver explores, and how much time it takes to solve the puzzle.\n",
    "\n",
    "### Problem 4: Improving performance with Forward Checking.\n",
    "\n",
    "Now, you will try to improve the performance of your Sudoku solver by implementing forward checking. Forward checking cuts off search when any variable has an empty domain. There are two ways to implement forward checking.\n",
    "\n",
    "1. Whenever a variable is assigned an update, the domain of any associated variable (i.e. any variable two edges away in the factor graph) is updated as well. \n",
    "\n",
    "2. Recompute the domains of all unassigned variables on-the-fly to try and find empty variables. \n",
    "\n",
    "The first method is faster, but requires some more modifications and variable tracking. The second method is simpler, and fine for the Sudoku problem. We will accept both.\n",
    "\n",
    "First, take a look at: the function `getSuccessorsWithForwardChecking()` and then implement `forwardCheck`\n"
   ]
  },
  {
   "cell_type": "code",
   "execution_count": null,
   "metadata": {
    "collapsed": false
   },
   "outputs": [],
   "source": [
    "doc(sudoku.forwardCheck)"
   ]
  },
  {
   "cell_type": "markdown",
   "metadata": {},
   "source": [
    "Run the program and take note of the number of states explored and how much time it takes.\n"
   ]
  },
  {
   "cell_type": "code",
   "execution_count": null,
   "metadata": {
    "collapsed": false
   },
   "outputs": [],
   "source": [
    "#!python sudoku.py --forward 1"
   ]
  },
  {
   "cell_type": "markdown",
   "metadata": {},
   "source": [
    "### Problem 5: Improving performance with ordering\n",
    "In CSPs, we can often vastly improve algorithms by intelligently choosing the ordering of variables to which to assign values. In this assignment, you will implement the minimum remaining values (MRV) heuristic to determine the ordering of variables. Your implementation here will depend on how you implemented Problem 4, so do the previous problem first. \n",
    "\n",
    "For this problem you should implement `mostConstrainedVariable()`."
   ]
  },
  {
   "cell_type": "code",
   "execution_count": null,
   "metadata": {
    "collapsed": false
   },
   "outputs": [],
   "source": [
    "doc(sudoku.mostConstrainedVariable)"
   ]
  },
  {
   "cell_type": "markdown",
   "metadata": {},
   "source": [
    "Try running the algorithm again, both with and without forward checking. Take note of the number of nodes explored and the time elapsed."
   ]
  },
  {
   "cell_type": "code",
   "execution_count": null,
   "metadata": {
    "collapsed": false
   },
   "outputs": [],
   "source": [
    "#!python sudoku.py --forward 1 --mostconstrained 1"
   ]
  },
  {
   "cell_type": "markdown",
   "metadata": {},
   "source": [
    "### Problem 5: Analyzing the performance of your solvers (submitted individually)\n",
    "In a separate document, compare your results from Problem 3, 4, and 5. Your analysis should report the number of nodes expanded by each of the Sudoku solvers and the time it took the solvers to find a solution. Did your algorithm improve? Why or why not? Explain in 2-4 sentences.\n",
    "\n",
    "Analyze the performance of the solver using the minimum remaining heuristic, with and without forward checking. Your analysis should report the number of nodes expanded by each of the Sudoku solvers and the time it took the solvers to find a solution.  \n",
    "\n",
    "Did ordering improve your performance? Does forward checking improve the algorithm when used in combination with ordering? Why or why not? Discuss your results."
   ]
  },
  {
   "cell_type": "markdown",
   "metadata": {},
   "source": [
    "## Local Search"
   ]
  },
  {
   "cell_type": "markdown",
   "metadata": {},
   "source": [
    "### Problem 6: Sampling Complete Solutions\n",
    "\n",
    "In the next several problems we consider a different approach to finding a solution to Sudoku, local search. In \n",
    "local search instead of working with consistent, incomplete assignments, we will instead use inconsistent, complete assignments. To start we need to sample a random complete assignment. \n",
    "\n",
    "In class, we started with a fully random assignment. However, it is often better to start with some randomness but also satisfying some of the factors. For Sudoku we start with the following constraint:\n",
    "\n",
    "* Sample returns a complete assignment with all *Row* factors satisfied.\n",
    "\n",
    "\n",
    "You should implement this with the function `randomRestart`:"
   ]
  },
  {
   "cell_type": "code",
   "execution_count": null,
   "metadata": {
    "collapsed": false
   },
   "outputs": [],
   "source": [
    "doc(sudoku.randomRestart)"
   ]
  },
  {
   "cell_type": "markdown",
   "metadata": {},
   "source": [
    "When this works you should be able to call `prettyprint` and see zeros along the rows but not the columns, for example"
   ]
  },
  {
   "cell_type": "code",
   "execution_count": null,
   "metadata": {
    "collapsed": false
   },
   "outputs": [],
   "source": [
    "board = [[4, 2, 5, 1, 7, 8, 9, 3, 6], [7, 4, 6, 3, 5, 2, 1, 9, 8], [1, 2, 8, 5, 7, 4, 9, 3, 6], [2, 1, 8, 6, 9, 3, 5, 4, 7], [3, 1, 2, 6, 9, 8, 5, 7, 4 \n",
    "], [1, 5, 6, 7, 4, 9, 2, 3, 8], [9, 4, 5, 3, 8, 1, 6, 7, 2], [3, 8, 2, 9, 7, 1, 5, 6, 4], [9, 1, 8, 4, 3, 6, 7, 5, 2]]\n",
    "IPython.display.HTML(Sudoku(board).prettyprinthtml())"
   ]
  },
  {
   "cell_type": "markdown",
   "metadata": {},
   "source": [
    "### Problem 7: Neighbors\n",
    "\n",
    "Local search algorithms also require being able to produce neighbors for a given assignment. We will be doing this by stochastic descent, so we will never be required to fully enumerate all the neighbors. Instead we will find neighboring assignments at random.\n",
    "\n",
    "One way to produce neighbors is to change variables at random. However for Sudoku this hardly ever results in progress towards a consistent solution. For Sudoku we can be a bit more clever and maintain consistency along some of the factors, in particular the row factors. \n",
    "\n",
    "To produce partially consistent neighbors, we do the following swap:\n",
    "\n",
    "* Randomly select a row \n",
    "* Swap two of the entries, being careful not to change any of the original values. \n",
    "\n",
    "For this problem you will implement this function as `randomSwap`"
   ]
  },
  {
   "cell_type": "code",
   "execution_count": null,
   "metadata": {
    "collapsed": false
   },
   "outputs": [],
   "source": [
    "doc(sudoku.randomSwap)"
   ]
  },
  {
   "cell_type": "markdown",
   "metadata": {},
   "source": [
    "### Problem 8: Stocastic Descent\n",
    "\n",
    "Finally, you will implement the full local search algorithm. The algorithm should start with a random assignment with  consistent rows. At each iteration we run the following check:\n",
    "\n",
    "1. Sample a neighber\n",
    "\n",
    "2. If it has a better score under $f$, then move to that neighbor\n",
    "\n",
    "3. Otherwise, return to step 1.\n",
    "\n"
   ]
  },
  {
   "cell_type": "markdown",
   "metadata": {},
   "source": [
    "For the scoring function $f$ we use the current number of constraints that are violated. For efficiency, our implementation keeps a running count of the violations of each assignment. You will have to understand this representation and implement the following function."
   ]
  },
  {
   "cell_type": "code",
   "execution_count": null,
   "metadata": {
    "collapsed": false
   },
   "outputs": [],
   "source": [
    "doc(sudoku.gradientDescent)"
   ]
  },
  {
   "cell_type": "markdown",
   "metadata": {},
   "source": [
    "To run the algorithm, we use the following commandline. Note that for this problem we will use the easier sudoku board as local search is less effective than standard DFS."
   ]
  },
  {
   "cell_type": "code",
   "execution_count": null,
   "metadata": {
    "collapsed": true
   },
   "outputs": [],
   "source": [
    "#!python sudoku.py --easy 1 --localsearch=1"
   ]
  },
  {
   "cell_type": "markdown",
   "metadata": {},
   "source": [
    "Run this algorithm 5 times. How often does it find a solution? Instrument your code so that it prints out the number of constraints still being violated. \n",
    "\n",
    "Now modify the stochastic descent function to randomly take some non-optimal moves. \n",
    "\n",
    "1. Sample a neighber\n",
    "\n",
    "2. If it has a better score under $f$, then move to that neighbor\n",
    "\n",
    "3. With probability 0.001, then move to that neighbor even if $f$ is higher.\n",
    "\n",
    "4. Otherwise, return to step 1.\n",
    "\n",
    "Run this algorithm 5 times on the problem. What do you see now? \n",
    "\n",
    "Document your results and write a 2-4 sentence explanation of this behavior as part of your answer to Problem 5."
   ]
  },
  {
   "cell_type": "markdown",
   "metadata": {},
   "source": [
    "### Problem 9: Genetic Algorithms\n",
    "\n",
    "Describe, in a few sentences, how you would design a genetic algorithm that solves sudoku puzzles. In particular, how does each *chromosome* store information? How do you initialize? What is your *fitness* function? How would you design the algorithm’s *crossover* and *mutation*?\n"
   ]
  },
  {
   "cell_type": "markdown",
   "metadata": {},
   "source": [
    "\n",
    "## Submission instructions\n",
    "\n",
    "1. Submit the written questions as a single PDF document to the dropbox.\n",
    "\n",
    "2. For the computational part, submit only the file `sudoku.py`. If you work with a partner, only one of you should submit this file. The names of both students should appear in the file name (e.g., PeterBang_MingYin_assignment3) and at the top of the file as a comment. Make sure to document your code!\n",
    "\n",
    "3. Please post questions on Piazza. You are encouraged to answer others’ questions. \n",
    "\n",
    "4. Email the TFs if you are taking a late day. "
   ]
  }
 ],
 "metadata": {
  "kernelspec": {
   "display_name": "Python 2",
   "language": "python",
   "name": "python2"
  },
  "language_info": {
   "codemirror_mode": {
    "name": "ipython",
    "version": 2
   },
   "file_extension": ".py",
   "mimetype": "text/x-python",
   "name": "python",
   "nbconvert_exporter": "python",
   "pygments_lexer": "ipython2",
   "version": "2.7.10"
  }
 },
 "nbformat": 4,
 "nbformat_minor": 0
}
